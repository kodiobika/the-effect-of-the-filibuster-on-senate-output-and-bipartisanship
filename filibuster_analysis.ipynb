{
 "cells": [
  {
   "cell_type": "code",
   "execution_count": 1,
   "id": "polyphonic-jackson",
   "metadata": {},
   "outputs": [],
   "source": [
    "import pandas as pd\n",
    "from bs4 import BeautifulSoup\n",
    "import re\n",
    "import matplotlib.pyplot as plt\n",
    "import requests\n",
    "import warnings\n",
    "import numpy as np\n",
    "import streamlit as st\n",
    "from sklearn.linear_model import LinearRegression\n",
    "from tqdm import tqdm\n",
    "import plotly.express as px\n",
    "import scipy.stats as stats\n",
    "warnings.filterwarnings(\"ignore\")"
   ]
  },
  {
   "cell_type": "code",
   "execution_count": 2,
   "id": "aggressive-mortality",
   "metadata": {},
   "outputs": [],
   "source": [
    "# Read cloture dataset (downloaded from senate.gov)\n",
    "clotures = pd.read_csv('senate_clotures.csv')\n",
    "clotures = clotures.sort_values(by = \"Congress\")[:-1]"
   ]
  },
  {
   "cell_type": "code",
   "execution_count": 3,
   "id": "indian-republican",
   "metadata": {},
   "outputs": [],
   "source": [
    "# Fill in info for each Congress (from cloture data and congress.gov)\n",
    "senate = pd.DataFrame(columns = ('Congress',))\n",
    "senate['Congress'] = np.arange(101, 117).tolist()\n",
    "senate['Cloture Motions'] = clotures[clotures.Congress > 100]['Motions Filed'].reset_index()['Motions Filed']\n",
    "senate['Cloture Votes'] = clotures[clotures.Congress > 100]['Votes on Cloture'].reset_index()['Votes on Cloture']\n",
    "senate['Cloture Invoked'] = clotures[clotures.Congress > 100]['Cloture Invoked'].reset_index()['Cloture Invoked']\n",
    "senate['Invocation Rate'] = senate['Cloture Invoked'] / senate['Cloture Votes']\n",
    "senate['Republicans'] = [45, 44, 43, 52, 55, 55, 50, 51, 55, 49, 41, 47, 45, 54, 51, 53]\n",
    "senate['Independents'] = [0, 0, 0, 0, 0, 0, 1, 1, 1, 2, 2, 2, 2, 2, 2, 2]\n",
    "senate['Democrats'] = 100 - senate['Republicans'] - senate['Independents']\n",
    "senate['Guaranteed Bipartisan'] = np.maximum(senate['Democrats'] + senate['Republicans'] / 2, senate['Republicans'] + senate['Democrats'] / 2)\n",
    "senate['Bills Passed'] = [679, 719, 536, 485, 566, 780, 521, 730, 665, 537, 433, 349, 362, 418, 552, 483]\n",
    "senate['Bills Rejected'] = [0, 0, 0, 2, 0, 0, 0, 1, 0, 1, 0, 2, 1, 0, 0, 0]\n",
    "senate['Bills Introduced (S)'] = [3271, 3390, 2569, 2199, 2655, 3287, 3181, 3035, 4122, 3741, 4059, 3716, 3020, 3548, 3805, 5086] \n",
    "senate['Bills Introduced (HR)'] = [592, 616, 524, 490, 530, 708, 566, 618, 616, 943, 722, 491, 581, 773, 998, 777]\n",
    "senate['Senate Actions'] = [7405, 7687, 5828, 8101, 7001, 8265, 8746, 7804, 10160, 10327, 9810, 7912, 7838, 9475, 8861, 8765]\n",
    "senate['House Actions'] = [1077, 1122, 920, 906, 1017, 1301, 1116, 1249, 1281, 1969, 1751, 761, 834, 1054, 1322, 1050]\n",
    "senate['Bills Introduced'] = senate['Bills Introduced (S)'] + senate['Bills Introduced (HR)']\n",
    "senate['Nominations'] = [1462, 1259, 1820, 1146, 1243, 1145, 1718, 1681, 1828, 1766, 2184, 1807, 1798, 1632, 2291, 2042]\n",
    "senate['Treaty Documents'] = [81, 97, 88, 96, 119, 117, 64, 71, 70, 72, 42, 43, 47, 60, 56, 53]\n",
    "senate['Total Actions'] = senate['Senate Actions'] + senate['House Actions'] + senate['Nominations'] + senate['Treaty Documents']\n",
    "senate['Cloture Frequency'] = senate['Cloture Motions'] / senate['Total Actions']\n",
    "senate['Senate Output'] = (senate['Bills Passed'] + senate['Bills Rejected']) / senate['Bills Introduced']"
   ]
  },
  {
   "cell_type": "code",
   "execution_count": 4,
   "id": "eleven-acrylic",
   "metadata": {},
   "outputs": [],
   "source": [
    "header = {\n",
    "          \"User-Agent\": \"Mozilla/5.0 (X11; Linux x86_64) AppleWebKit/537.36 (KHTML, like Gecko) Chrome/50.0.2661.75 Safari/537.36\",\n",
    "          \"X-Requested-With\": \"XMLHttpRequest\"\n",
    "        }"
   ]
  },
  {
   "cell_type": "code",
   "execution_count": 5,
   "id": "limited-plastic",
   "metadata": {},
   "outputs": [],
   "source": [
    "num_filibustered_bills = []\n",
    "num_blocked_bills = []\n",
    "num_compromises = []\n",
    "filibustered_bills_dfs = []\n",
    "\n",
    "for i in range(101, 117):\n",
    "    # Read roll call votes for each Senate session\n",
    "    url_1 = 'https://www.senate.gov/legislative/LIS/roll_call_lists/vote_menu_' + str(i) + '_1.htm'\n",
    "    url_2 = 'https://www.senate.gov/legislative/LIS/roll_call_lists/vote_menu_' + str(i) + '_2.htm'\n",
    "    r_1 = requests.get(url_1, headers=header)\n",
    "    r_2 = requests.get(url_2, headers=header)\n",
    "\n",
    "    df_1 = pd.read_html(r_1.text)[0]\n",
    "    df_1[\"Session\"] = 1\n",
    "    df_2 = pd.read_html(r_2.text)[0]\n",
    "    df_2[\"Session\"] = 2\n",
    "    df = pd.concat([df_1, df_2])\n",
    "\n",
    "    # Get roll call votes related to invoking cloture\n",
    "    cloture_votes = df[df['Question: Description'].str.contains('Cloture', na = False)]\n",
    "    cloture_votes = cloture_votes[cloture_votes['Issue'].str.contains('|'.join(['S. \\d+', 'H.R. \\d+']), regex = True)]\n",
    "    cloture_votes = cloture_votes[~cloture_votes['Question: Description'].str.contains('|'.join(['Amdt', 'Amendment']), case = False)]\n",
    "    cloture_votes['Vote'] = cloture_votes['Vote (Tally)'].str.split(expand = True)[0].astype(int)\n",
    "    cloture_votes = cloture_votes.sort_values(['Issue', 'Session', 'Vote'])\n",
    "\n",
    "    # Find number of filibustered bills\n",
    "    filibustered_bills = cloture_votes.drop_duplicates(subset = 'Issue', keep = 'last')\n",
    "    num_filibustered_bills.append(len(filibustered_bills))\n",
    "    filibustered_bills_dfs.append(filibustered_bills)\n",
    "\n",
    "    # Find number of blocked bills\n",
    "    rejected_clotures = filibustered_bills[filibustered_bills['Result'] == 'Rejected']\n",
    "    num_blocked_bills.append(len(rejected_clotures))\n",
    "\n",
    "    # Find all issues for which cloture was ultimately invoked\n",
    "    issues = cloture_votes['Issue']\n",
    "    rejected_issues = rejected_clotures['Issue']\n",
    "    not_rejected = cloture_votes[~issues.isin(rejected_issues)]\n",
    "    not_rejected_issues = not_rejected['Issue']\n",
    "    cloture_invoked = not_rejected[not_rejected_issues.isin(not_rejected_issues[not_rejected_issues.duplicated()])].sort_values(['Issue', 'Session', 'Vote'])\n",
    "    \n",
    "    # Find number of clotures that were initially rejected and later invoked\n",
    "    compromises = []\n",
    "    for j in range(1, len(cloture_invoked)):\n",
    "        issue = cloture_invoked.iloc[j]['Issue']\n",
    "        prev_issue = cloture_invoked.iloc[j - 1]['Issue']\n",
    "        result = cloture_invoked.iloc[j]['Result']\n",
    "        prev_result = cloture_invoked.iloc[j - 1]['Result']\n",
    "        compromise = (issue == prev_issue) and (prev_result == \"Rejected\") and (result == \"Agreed to\")\n",
    "        compromises.append(compromise)\n",
    "        if (compromise) and (j < len(cloture_invoked) - 1):\n",
    "            next_issue = cloture_invoked.iloc[j + 1]['Issue']\n",
    "            next_result = cloture_invoked.iloc[j + 1]['Result']\n",
    "            if (issue == next_issue) and (next_result == \"Rejected\"):\n",
    "                print(issue)\n",
    "        elif compromise:\n",
    "            if result == \"Rejected\":\n",
    "                print(issue)\n",
    "    num_compromises.append(sum(compromises))\n",
    "\n",
    "senate['Filibustered Bills'] = num_filibustered_bills\n",
    "senate['Ultimately Blocked'] = num_blocked_bills\n",
    "senate['Blocked and Later Considered'] = num_compromises\n",
    "senate['Cloture Initially Invoked'] = senate['Filibustered Bills'] - senate['Ultimately Blocked'] - senate['Blocked and Later Considered']"
   ]
  },
  {
   "cell_type": "code",
   "execution_count": 6,
   "id": "brazilian-addiction",
   "metadata": {},
   "outputs": [],
   "source": [
    "table_1 = senate[['Congress', 'Bills Introduced', 'Filibustered Bills', 'Ultimately Blocked', 'Blocked and Later Considered', 'Cloture Initially Invoked']]\n",
    "table_1.to_csv('filibuster_table_1.csv')"
   ]
  },
  {
   "cell_type": "code",
   "execution_count": 7,
   "id": "palestinian-holocaust",
   "metadata": {},
   "outputs": [],
   "source": [
    "def present_in_href(check_string):\n",
    "    return lambda tag: tag.get(\"href\") and check_string in tag.get(\"href\")\n",
    "\n",
    "# Reads congress.gov to determine whether a bill has bipartisan co-sponsors\n",
    "def bipartisan_cosponsors(congress_num, bill_num):\n",
    "    rep, dem = False, False\n",
    "    bill = 'https://www.congress.gov/bill/' + str(congress_num) + 'th-congress/senate-bill/' + str(bill_num) + '/cosponsors'\n",
    "    r = requests.get(bill, headers=header)\n",
    "    bs = BeautifulSoup(r.content, 'html.parser')\n",
    "    cosponsors = str(bs.find_all(present_in_href(\"https://www.congress.gov/member\")))\n",
    "    rep = re.search('\\[R', cosponsors)\n",
    "    dem = re.search('\\[D', cosponsors) or re.search('\\[I', cosponsors)\n",
    "    if rep and dem:\n",
    "        return True\n",
    "    else:\n",
    "        return False\n",
    "\n",
    "# Reads senate.gov to determine whether a roll call approved bill passed with bipartisan support\n",
    "def bipartisan_passage(congress_num, session_num, vote_num):\n",
    "    rep_maj_support, dem_maj_support = False, False\n",
    "    vote = \"https://www.senate.gov/legislative/LIS/roll_call_lists/roll_call_vote_cfm.cfm?congress=\" + str(congress_num) + \"&session=\" + str(session_num) + \"&vote=00\" + vote_num\n",
    "    r = requests.get(vote, headers=header)\n",
    "    bs = BeautifulSoup(r.content, 'html.parser')\n",
    "    roll_calls = bs.find_all(class_=\"newspaperDisplay_3column\")\n",
    "    if roll_calls:\n",
    "        yea_votes = str(roll_calls[1])\n",
    "    else:\n",
    "        print(congress_num)\n",
    "        print(session_num)\n",
    "        print(vote_num)\n",
    "        return False\n",
    "    yea_vote_text = ''\n",
    "    for x in bs.find_all(class_=\"contenttext\"):\n",
    "        if str(x).count('YEAs') > 0:\n",
    "            yea_vote_text = str(x)\n",
    "    yeas = int(re.findall(r'\\d+', yea_vote_text)[0])\n",
    "    rep_yeas = yea_votes.count('(R')\n",
    "    dem_yeas = yea_votes.count('(D') + yea_votes.count('(I')\n",
    "    if rep_yeas + dem_yeas != yeas:\n",
    "        print(congress_num)\n",
    "        print(session_num)\n",
    "        print(vote_num)\n",
    "        return False\n",
    "    rep_maj_support = rep_yeas > senate['Republicans'][congress_num - 101] / 2\n",
    "    dem_maj_support = dem_yeas > senate['Democrats'][congress_num - 101] / 2\n",
    "    if rep_maj_support and dem_maj_support:\n",
    "        return True\n",
    "    else:\n",
    "        return False"
   ]
  },
  {
   "cell_type": "code",
   "execution_count": 8,
   "id": "studied-spider",
   "metadata": {},
   "outputs": [],
   "source": [
    "# Find number of bipartisan co-sponsored Senate-introduced bills for each Congress\n",
    "bipartisan_cosponsorships = []\n",
    "for i in range(101, 117):\n",
    "    num_bills = senate['Bills Introduced'][i - 101]\n",
    "    is_bipartisan = [bipartisan_cosponsors(i, j) for j in tqdm(range(1, num_bills + 1))]\n",
    "    bipartisan_cosponsorships.append(sum(is_bipartisan))\n",
    "\n",
    "# Results of the above code are below (running the above takes a few hours)\n",
    "# bipartisan_cosponsorships = [1383, 1288, 957, 790, 993, 1315, 1383, 1412, 1488, 1758, 1386, 1092, 1186, 1475, 1797, 2247]\n",
    "\n",
    "senate['Bipartisan Cosponsored Bills'] = bipartisan_cosponsorships\n",
    "senate['Bipartisan Cosponsorship Rate'] = bipartisan_cosponsorships / senate['Bills Introduced (S)']"
   ]
  },
  {
   "cell_type": "code",
   "execution_count": 9,
   "id": "heated-observation",
   "metadata": {},
   "outputs": [
    {
     "name": "stdout",
     "output_type": "stream",
     "text": [
      "107\n",
      "1\n",
      "220\n"
     ]
    }
   ],
   "source": [
    "num_passed_by_roll_call = []\n",
    "num_passed_by_bipartisan_roll_call = []\n",
    "\n",
    "for i in range(101, 117):\n",
    "    # Read roll call votes for each Senate session\n",
    "    url_1 = 'https://www.senate.gov/legislative/LIS/roll_call_lists/vote_menu_' + str(i) + '_1.htm'\n",
    "    url_2 = 'https://www.senate.gov/legislative/LIS/roll_call_lists/vote_menu_' + str(i) + '_2.htm'\n",
    "    r_1 = requests.get(url_1, headers=header)\n",
    "    r_2 = requests.get(url_2, headers=header)\n",
    "    \n",
    "    df_1 = pd.read_html(r_1.text)[0]\n",
    "    df_1[\"Session\"] = 1\n",
    "    df_2 = pd.read_html(r_2.text)[0]\n",
    "    df_2[\"Session\"] = 2\n",
    "    df = pd.concat([df_1, df_2])\n",
    "\n",
    "    # Find bills that passed\n",
    "    bills = df[df['Question: Description'].str.contains('On Passage of the Bill', na = False)]\n",
    "    bills_passed = bills[bills.Result == 'Passed']\n",
    "    \n",
    "    # Any bills with more 'yea' votes than this threshold (which is the sum of the majority\n",
    "    # party's members and half of the minority party) is guaranteed to have passed\n",
    "    # with bipartisan approval\n",
    "    guarantee_threshold = senate['Guaranteed Bipartisan'][i - 101]\n",
    "    yeas = bills_passed['Vote (Tally)'].str.extract(r'(\\(\\d+)')[0].str.slice(1).astype(int)\n",
    "    maj_support = bills_passed[yeas > guarantee_threshold]\n",
    "    \n",
    "    # Determine whether other bills passed with bipartisan support\n",
    "    not_guaranteed_bipartisan = bills_passed[yeas <= guarantee_threshold]\n",
    "    for j in range(len(not_guaranteed_bipartisan)):\n",
    "        session_num = not_guaranteed_bipartisan.iloc[j]['Session']\n",
    "        vote_num = re.search(r'\\d+', not_guaranteed_bipartisan.iloc[j]['Vote (Tally)']).group(0).zfill(3)\n",
    "        if bipartisan_passage(i, session_num, vote_num):\n",
    "            maj_support.append(not_guaranteed_bipartisan.iloc[j])\n",
    "\n",
    "    num_passed_by_roll_call.append(len(yeas))\n",
    "    num_passed_by_bipartisan_roll_call.append(len(maj_support))\n",
    "\n",
    "senate['Passed by Roll Call'] = num_passed_by_roll_call\n",
    "senate['Bipartisan Roll Call'] = num_passed_by_bipartisan_roll_call\n",
    "senate['Passed by Voice Vote'] = senate['Bills Passed'] - senate['Passed by Roll Call']\n",
    "senate['Bipartisan Passage Rate'] = (senate['Passed by Voice Vote'] + senate['Bipartisan Roll Call']) / senate['Bills Passed']"
   ]
  },
  {
   "cell_type": "code",
   "execution_count": 10,
   "id": "executive-willow",
   "metadata": {},
   "outputs": [],
   "source": [
    "# Link for the printed bill is broken\n",
    "# Verify with https://www.govtrack.us/congress/votes/107-2001/s220 instead (not bipartisan)"
   ]
  },
  {
   "cell_type": "code",
   "execution_count": 11,
   "id": "complete-shift",
   "metadata": {},
   "outputs": [],
   "source": [
    "table_2 = senate[['Congress', 'Cloture Frequency', 'Bipartisan Passage Rate', 'Bipartisan Cosponsorship Rate', 'Senate Output']]\n",
    "table_2.to_csv('filibuster_table_2.csv')"
   ]
  },
  {
   "cell_type": "code",
   "execution_count": 12,
   "id": "talented-lecture",
   "metadata": {},
   "outputs": [],
   "source": [
    "clotures = pd.Series(senate['Cloture Frequency']).astype('float64')\n",
    "bipartisan_cosponsorship = pd.Series(senate['Bipartisan Cosponsorship Rate']).astype('float64')\n",
    "bipartisan_passage = pd.Series(senate['Bipartisan Passage Rate']).astype('float64')\n",
    "output = pd.Series(senate['Senate Output']).astype('float64')"
   ]
  },
  {
   "cell_type": "code",
   "execution_count": 13,
   "id": "median-knitting",
   "metadata": {},
   "outputs": [
    {
     "name": "stdout",
     "output_type": "stream",
     "text": [
      "(0.17011854837589518, 0.5287640849956468)\n"
     ]
    },
    {
     "data": {
      "image/png": "[encoded data removed]",
      "text/plain": [
       "<Figure size 432x288 with 1 Axes>"
      ]
     },
     "metadata": {
      "needs_background": "light"
     },
     "output_type": "display_data"
    }
   ],
   "source": [
    "# Relationship between cloture frequency and bipartisan cosponsorship\n",
    "fig = plt.figure()\n",
    "X = np.vstack(clotures)\n",
    "y = np.array(bipartisan_cosponsorship)\n",
    "plt.xlabel('Cloture Frequency')\n",
    "plt.ylabel('Bipartisan Cosponsorship Rate')\n",
    "plt.scatter(X, y)\n",
    "fig.show()\n",
    "print(stats.pearsonr(clotures, bipartisan_cosponsorship))"
   ]
  },
  {
   "cell_type": "code",
   "execution_count": 14,
   "id": "received-carpet",
   "metadata": {},
   "outputs": [
    {
     "name": "stdout",
     "output_type": "stream",
     "text": [
      "(0.20656694598034897, 0.4427378108581604)\n"
     ]
    },
    {
     "data": {
      "image/png": "[encoded data removed]",
      "text/plain": [
       "<Figure size 432x288 with 1 Axes>"
      ]
     },
     "metadata": {
      "needs_background": "light"
     },
     "output_type": "display_data"
    }
   ],
   "source": [
    "# Relationship between cloture frequency and bipartisan passage\n",
    "fig = plt.figure()\n",
    "X = np.vstack(clotures)\n",
    "y = np.array(bipartisan_passage)\n",
    "plt.xlabel('Cloture Frequency')\n",
    "plt.ylabel('Bipartisan Passage Rate')\n",
    "plt.scatter(X, y)\n",
    "fig.show()\n",
    "print(stats.pearsonr(clotures, bipartisan_passage))"
   ]
  },
  {
   "cell_type": "code",
   "execution_count": 15,
   "id": "scheduled-wheel",
   "metadata": {},
   "outputs": [
    {
     "name": "stdout",
     "output_type": "stream",
     "text": [
      "(-0.655211250833027, 0.0058684192770414294)\n"
     ]
    },
    {
     "data": {
      "image/png": "[encoded data removed]",
      "text/plain": [
       "<Figure size 432x288 with 1 Axes>"
      ]
     },
     "metadata": {
      "needs_background": "light"
     },
     "output_type": "display_data"
    }
   ],
   "source": [
    "# Relationship between cloture frequency and Senate output\n",
    "fig = plt.figure()\n",
    "X = np.vstack(clotures)\n",
    "y = np.array(output)\n",
    "plt.xlabel('Cloture Frequency')\n",
    "plt.ylabel('Senate Output')\n",
    "plt.scatter(X, y)\n",
    "fig.show()\n",
    "print(stats.pearsonr(clotures, output))"
   ]
  },
  {
   "cell_type": "code",
   "execution_count": 16,
   "id": "international-development",
   "metadata": {},
   "outputs": [
    {
     "name": "stdout",
     "output_type": "stream",
     "text": [
      "(-0.70916248943486, 0.002096640590785117)\n"
     ]
    },
    {
     "data": {
      "image/png": "[encoded data removed]",
      "text/plain": [
       "<Figure size 432x288 with 1 Axes>"
      ]
     },
     "metadata": {
      "needs_background": "light"
     },
     "output_type": "display_data"
    }
   ],
   "source": [
    "# Relationship between ln(cloture frequency) and Senate output\n",
    "fig = plt.figure()\n",
    "X = np.vstack(np.log(clotures))\n",
    "y = np.array(output)\n",
    "plt.xlabel('Ln(Cloture Frequency)')\n",
    "plt.ylabel('Senate Output')\n",
    "plt.scatter(X, y)\n",
    "fig.show()\n",
    "print(stats.pearsonr(np.log(clotures), output))"
   ]
  },
  {
   "cell_type": "code",
   "execution_count": 17,
   "id": "literary-minute",
   "metadata": {},
   "outputs": [
    {
     "data": {
      "image/png": "[encoded data removed]",
      "text/plain": [
       "<Figure size 432x288 with 1 Axes>"
      ]
     },
     "metadata": {
      "needs_background": "light"
     },
     "output_type": "display_data"
    }
   ],
   "source": [
    "# Linear regression\n",
    "X = np.vstack(np.log(clotures))\n",
    "y = np.array(output)\n",
    "reg = LinearRegression().fit(X, y)\n",
    "reg.score(X, y)\n",
    "reg_pred = reg.predict(X)\n",
    "plt.xlabel('Ln(Cloture Frequency)')\n",
    "plt.ylabel('Senate Output')\n",
    "plt.scatter(np.log(clotures), output)\n",
    "plt.plot(np.log(clotures),\n",
    "         reg_pred,\n",
    "         label = f'{reg.coef_[0]:.3f} ln(x) + {reg.intercept_:.3f}')\n",
    "plt.legend()\n",
    "fig.show()"
   ]
  },
  {
   "cell_type": "code",
   "execution_count": 28,
   "id": "going-voice",
   "metadata": {},
   "outputs": [],
   "source": [
    "# Determines whether the primary sponsor of a bill is a member of the majority party\n",
    "def majority_party_sponsor(congress_num, issue):\n",
    "    bill_type, bill_num = issue.split(' ')\n",
    "    if bill_type == 'H.R.':\n",
    "        chamber = 'house'\n",
    "    else:\n",
    "        chamber = 'senate'\n",
    "    bill = 'https://www.congress.gov/bill/' + str(congress_num) + 'th-congress/' + chamber + '-bill/' + bill_num + '/cosponsors'\n",
    "    r = requests.get(bill, headers=header)\n",
    "    bs = BeautifulSoup(r.content, 'html.parser')\n",
    "    sponsor = str(bs.find(present_in_href(\"member/\")))\n",
    "    rep_primary_sponsor = re.search('\\[R', sponsor)\n",
    "    dem_primary_sponsor = re.search('\\[D', sponsor) or re.search('\\[I', sponsor)\n",
    "    num_reps = int(senate[senate['Congress'] == congress_num]['Republicans'])\n",
    "    if num_reps >= 50:\n",
    "        if rep_primary_sponsor:\n",
    "            return True\n",
    "        else:\n",
    "            return False\n",
    "    else:\n",
    "        if dem_primary_sponsor:\n",
    "            return True\n",
    "        else:\n",
    "            return False\n",
    "\n",
    "# Determines whether a vote is opposed primarily by the minority party\n",
    "# (majority of 'nay' votes are minority party members)\n",
    "def opposed_by_minority_party(congress_num, session_num, vote_num):\n",
    "    if vote_num < 10:\n",
    "        vote_num = '00' + str(vote_num)\n",
    "    elif vote_num < 100:\n",
    "        vote_num = '0' + str(vote_num)\n",
    "    else:\n",
    "        vote_num = str(vote_num)\n",
    "    vote = \"https://www.senate.gov/legislative/LIS/roll_call_lists/roll_call_vote_cfm.cfm?congress=\" + str(congress_num) + \"&session=\" + str(session_num) + \"&vote=00\" + vote_num\n",
    "    r = requests.get(vote, headers=header)\n",
    "    bs = BeautifulSoup(r.content, 'html.parser')\n",
    "    roll_calls = bs.find_all(class_=\"newspaperDisplay_3column\")\n",
    "    try:\n",
    "        nay_votes = str(roll_calls[2])\n",
    "    except:\n",
    "        if roll_calls:\n",
    "            print('no nay votes: ' + str(congress_num) + ', ' + str(session_num) + ', ' + vote_num)\n",
    "            return False\n",
    "        else:\n",
    "            print('broken link: ' + str(congress_num) + ', ' + str(session_num) + ', ' + vote_num)\n",
    "            return False\n",
    "    for x in bs.find_all(class_=\"contenttext\"):\n",
    "        if str(x).count('NAYs') > 0:\n",
    "            nay_vote_text = str(x)\n",
    "    nays = int(re.findall(r'\\d+', nay_vote_text)[0])\n",
    "    rep_nays = nay_votes.count('(R')\n",
    "    dem_nays = nay_votes.count('(D') + nay_votes.count('(I')\n",
    "    num_reps = int(senate[senate['Congress'] == congress_num]['Republicans'])\n",
    "    if num_reps >= 50:\n",
    "        if dem_nays / nays >= 0.5:\n",
    "            return True\n",
    "        else:\n",
    "            return False\n",
    "    else:\n",
    "        if rep_nays / nays >= 0.5:\n",
    "            return True\n",
    "        else:\n",
    "            return False\n",
    "    return (rep_nays, dem_nays, nays)"
   ]
  },
  {
   "cell_type": "code",
   "execution_count": 19,
   "id": "expressed-contemporary",
   "metadata": {},
   "outputs": [],
   "source": [
    "# Find number of filibustered bills whose primary sponsor is a majority party member\n",
    "num_maj_party_filibustered_bills = []\n",
    "for congress in range(101, 117):\n",
    "    filibustered_bills = filibustered_bills_dfs[congress-101]\n",
    "    maj_party_is_primary_sponsor = []\n",
    "    for issue in filibustered_bills['Issue']:\n",
    "        maj_party_is_primary_sponsor.append(majority_party_sponsor(congress, issue))\n",
    "    filibustered_bills_dfs[congress-101]['Majority Party Bill'] = maj_party_is_primary_sponsor\n",
    "    num_maj_party_filibustered_bills.append(sum(maj_party_is_primary_sponsor))\n",
    "    \n",
    "senate['Majority Party Filibustered Bills'] = num_maj_party_filibustered_bills\n",
    "senate['Minority Party Filibustered Bills'] = senate['Filibustered Bills'] - senate['Majority Party Filibustered Bills']"
   ]
  },
  {
   "cell_type": "code",
   "execution_count": 29,
   "id": "seeing-sacrifice",
   "metadata": {},
   "outputs": [
    {
     "name": "stdout",
     "output_type": "stream",
     "text": [
      "no nay votes: 104, 2, 107\n",
      "no nay votes: 105, 1, 057\n",
      "no nay votes: 106, 2, 229\n",
      "no nay votes: 107, 1, 262\n",
      "broken link: 107, 1, 230\n",
      "no nay votes: 109, 1, 103\n",
      "no nay votes: 113, 2, 060\n"
     ]
    }
   ],
   "source": [
    "# Find majority bills that were primarily opposed by the minority party\n",
    "num_maj_party_bills_opposed_by_min_party = []\n",
    "for i in range(len(filibustered_bills_dfs)):\n",
    "    maj_party_bills_opposed_by_min_party = []\n",
    "    df = filibustered_bills_dfs[i]\n",
    "    for row in range(len(df)):\n",
    "        session_num = df.iloc[row, 5]\n",
    "        vote_num = df.iloc[row, 6]\n",
    "        majority_party_bill = df.iloc[row, 7]\n",
    "        if not majority_party_bill:\n",
    "            continue\n",
    "        maj_party_bills_opposed_by_min_party.append(opposed_by_minority_party(101 + i, session_num, vote_num))\n",
    "    num_maj_party_bills_opposed_by_min_party.append(sum(maj_party_bills_opposed_by_min_party))\n",
    "    \n",
    "senate['Majority Party Bills Opposed by Minority Party'] = num_maj_party_bills_opposed_by_min_party"
   ]
  },
  {
   "cell_type": "code",
   "execution_count": 21,
   "id": "underlying-nepal",
   "metadata": {},
   "outputs": [],
   "source": [
    "table_5 = senate[['Congress', 'Filibustered Bills', 'Majority Party Filibustered Bills', 'Majority Party Bills Opposed by Minority Party', 'Minority Party Filibustered Bills']]\n",
    "table_5.to_csv('filibuster_table_5.csv')"
   ]
  },
  {
   "cell_type": "code",
   "execution_count": 22,
   "id": "general-tourism",
   "metadata": {},
   "outputs": [],
   "source": [
    "# Counts of Senate-introduced bills by party and chamber of origin\n",
    "rep_int_s = [1211, 1285, 911, 1314, 1588, 1833, 1304, 1478, 2209, 1260, 1129, 944, 1008, 1818, 1761, 2174]\n",
    "dem_int_s = [2060, 2105, 1658, 885, 1067, 1454, 1877, 1557, 1913, 2481, 2930, 2772, 2012, 1730, 2044, 2912]\n",
    "rep_int_hr = [87, 77, 45, 418, 444, 567, 447, 491, 494, 212, 148, 386, 449, 594, 765, 202]\n",
    "dem_int_hr = [505, 539, 479, 75, 86, 140, 118, 127, 121, 731, 574, 105, 132, 179, 233, 575]\n",
    "# Counts of Senate-approved bills by party and chamber of origin\n",
    "rep_pass_s = [94, 84, 64, 172, 237, 278, 94, 257, 245, 62, 22, 43, 41, 130, 162, 160]\n",
    "dem_pass_s = [241, 278, 194, 54, 71, 97, 121, 123, 92, 150, 150, 104, 111, 65, 99, 102]\n",
    "rep_pass_hr = [54, 44, 27, 218, 224, 311, 231, 259, 248, 79, 42, 151, 146, 148, 207, 64]\n",
    "dem_pass_hr = [290, 313, 251, 41, 34, 93, 74, 91, 79, 246, 219, 51, 64, 75, 84, 157]\n",
    "# Counts of Senate-rejected bills by party\n",
    "rep_fail = [0, 0, 0, 1, 0, 0, 0, 1, 0, 0, 0, 1, 1, 0, 0, 0]\n",
    "dem_fail = [0, 0, 0, 1, 0, 0, 0, 0, 0, 1, 0, 1, 0, 0, 0, 0]\n",
    "\n",
    "bill_info_by_party = pd.DataFrame.from_dict(\n",
    "    {'Rep Introduced (S)': rep_int_s,\n",
    "     'Dem Introduced (S)': dem_int_s,\n",
    "     'Rep Introduced (HR)': rep_int_hr,\n",
    "     'Dem Introduced (HR)': dem_int_hr,\n",
    "     'Rep Passed (S)': rep_pass_s,\n",
    "     'Dem Passed (S)': dem_pass_s,\n",
    "     'Rep Passed (HR)': rep_pass_hr,\n",
    "     'Dem Passed (HR)': dem_pass_hr,\n",
    "     'Rep Failed': rep_fail,\n",
    "     'Dem Failed': dem_fail})\n",
    "\n",
    "bill_info_by_party.insert(0, 'Republicans', [45, 44, 43, 52, 55, 55, 50, 51, 55, 49, 41, 47, 45, 54, 51, 53])\n",
    "bill_info_by_party.insert(1, 'Democrats', 100 - bill_info_by_party['Republicans'])\n",
    "bill_info_by_party['Rep Introduced'] = bill_info_by_party['Rep Introduced (S)'] + bill_info_by_party['Rep Introduced (HR)']\n",
    "bill_info_by_party['Dem Introduced'] = bill_info_by_party['Dem Introduced (S)'] + bill_info_by_party['Dem Introduced (HR)']\n",
    "bill_info_by_party['Rep Received Floor Vote'] = bill_info_by_party['Rep Passed (S)'] + bill_info_by_party['Rep Passed (HR)'] + bill_info_by_party['Rep Failed']\n",
    "bill_info_by_party['Dem Received Floor Vote'] = bill_info_by_party['Dem Passed (S)'] + bill_info_by_party['Dem Passed (HR)'] + bill_info_by_party['Dem Failed']\n",
    "bill_info_by_party['Rep Output'] = bill_info_by_party['Rep Received Floor Vote'] / bill_info_by_party['Rep Introduced']\n",
    "bill_info_by_party['Dem Output'] = bill_info_by_party['Dem Received Floor Vote'] / bill_info_by_party['Dem Introduced']\n",
    "\n",
    "df = bill_info_by_party[['Democrats', 'Rep Output', 'Dem Output', 'Rep Received Floor Vote', 'Dem Received Floor Vote']]\n",
    "\n",
    "# Compute majority party and minority party outputs\n",
    "maj_party_outputs = []\n",
    "for i in range(16):\n",
    "    if df.iloc[i, 0] > 50:\n",
    "        maj_party_output = df.iloc[i, 2]\n",
    "    else:\n",
    "        maj_party_output = df.iloc[i, 1]\n",
    "    maj_party_outputs.append(maj_party_output)\n",
    "\n",
    "min_party_outputs = []\n",
    "for i in range(16):\n",
    "    if df.iloc[i, 0] <= 50:\n",
    "        min_party_output = df.iloc[i, 2]\n",
    "    else:\n",
    "        min_party_output = df.iloc[i, 1]\n",
    "    min_party_outputs.append(min_party_output)\n",
    "\n",
    "senate['Majority Party Output'] = maj_party_outputs\n",
    "senate['Minority Party Output'] = min_party_outputs"
   ]
  },
  {
   "cell_type": "code",
   "execution_count": 23,
   "id": "numeric-stationery",
   "metadata": {},
   "outputs": [],
   "source": [
    "maj_party_output = pd.Series(senate['Majority Party Output']).astype('float64')\n",
    "min_party_output = pd.Series(senate['Minority Party Output']).astype('float64')"
   ]
  },
  {
   "cell_type": "code",
   "execution_count": 24,
   "id": "planned-discharge",
   "metadata": {},
   "outputs": [
    {
     "name": "stdout",
     "output_type": "stream",
     "text": [
      "(-0.6622214989833941, 0.005191651164380099)\n"
     ]
    },
    {
     "data": {
      "image/png": "[encoded data removed]",
      "text/plain": [
       "<Figure size 432x288 with 1 Axes>"
      ]
     },
     "metadata": {
      "needs_background": "light"
     },
     "output_type": "display_data"
    }
   ],
   "source": [
    "# Relationship between cloture frequency and majority party output\n",
    "fig = plt.figure()\n",
    "X = np.vstack(clotures)\n",
    "y = np.array(maj_party_output)\n",
    "plt.xlabel('Cloture Frequency')\n",
    "plt.ylabel('Majority Party Output')\n",
    "plt.scatter(X, y)\n",
    "fig.show()\n",
    "print(stats.pearsonr(clotures, maj_party_output))"
   ]
  },
  {
   "cell_type": "code",
   "execution_count": 25,
   "id": "centered-dialogue",
   "metadata": {},
   "outputs": [
    {
     "name": "stdout",
     "output_type": "stream",
     "text": [
      "(-0.714597692211722, 0.0018670937091040869)\n"
     ]
    },
    {
     "data": {
      "image/png": "[encoded data removed]",
      "text/plain": [
       "<Figure size 432x288 with 1 Axes>"
      ]
     },
     "metadata": {
      "needs_background": "light"
     },
     "output_type": "display_data"
    }
   ],
   "source": [
    "# Relationship between ln(cloture frequency) and majority party output\n",
    "fig = plt.figure()\n",
    "X = np.vstack(np.log(clotures))\n",
    "y = np.array(maj_party_output)\n",
    "plt.xlabel('Ln(Cloture Frequency)')\n",
    "plt.ylabel('Majority Party Output')\n",
    "plt.scatter(X, y)\n",
    "fig.show()\n",
    "print(stats.pearsonr(np.log(clotures), maj_party_output))"
   ]
  },
  {
   "cell_type": "code",
   "execution_count": 26,
   "id": "experienced-discharge",
   "metadata": {},
   "outputs": [
    {
     "data": {
      "image/png": "[encoded data removed]",
      "text/plain": [
       "<Figure size 432x288 with 1 Axes>"
      ]
     },
     "metadata": {
      "needs_background": "light"
     },
     "output_type": "display_data"
    }
   ],
   "source": [
    "# Linear regression\n",
    "X = np.vstack(np.log(clotures))\n",
    "y = np.array(maj_party_output)\n",
    "reg = LinearRegression().fit(X, y)\n",
    "reg.score(X, y)\n",
    "reg_pred = reg.predict(X)\n",
    "plt.xlabel('Ln(Cloture Frequency)')\n",
    "plt.ylabel('Majority Party Output')\n",
    "plt.scatter(np.log(clotures), maj_party_output)\n",
    "plt.plot(np.log(clotures),\n",
    "         reg_pred,\n",
    "         label = f'{reg.coef_[0]:.3f} ln(x) + {reg.intercept_:.3f}')\n",
    "plt.legend()\n",
    "fig.show()"
   ]
  },
  {
   "cell_type": "code",
   "execution_count": 27,
   "id": "antique-subcommittee",
   "metadata": {},
   "outputs": [
    {
     "name": "stdout",
     "output_type": "stream",
     "text": [
      "(-0.10124779614224264, 0.7090738190014738)\n"
     ]
    },
    {
     "data": {
      "image/png": "[encoded data removed]",
      "text/plain": [
       "<Figure size 432x288 with 1 Axes>"
      ]
     },
     "metadata": {
      "needs_background": "light"
     },
     "output_type": "display_data"
    }
   ],
   "source": [
    "# Relationship between cloture frequency and minority party output\n",
    "fig = plt.figure()\n",
    "X = np.vstack(clotures)\n",
    "y = np.array(min_party_output)\n",
    "plt.xlabel('Cloture Frequency')\n",
    "plt.ylabel('Minority Party Output')\n",
    "plt.scatter(X, y)\n",
    "fig.show()\n",
    "print(stats.pearsonr(clotures, min_party_output))"
   ]
  }
 ],
 "metadata": {
  "kernelspec": {
   "display_name": "Python 3",
   "language": "python",
   "name": "python3"
  },
  "language_info": {
   "codemirror_mode": {
    "name": "ipython",
    "version": 3
   },
   "file_extension": ".py",
   "mimetype": "text/x-python",
   "name": "python",
   "nbconvert_exporter": "python",
   "pygments_lexer": "ipython3",
   "version": "3.7.8"
  }
 },
 "nbformat": 4,
 "nbformat_minor": 5
}
